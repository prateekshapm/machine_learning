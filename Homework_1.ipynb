{
  "nbformat": 4,
  "nbformat_minor": 0,
  "metadata": {
    "colab": {
      "provenance": [],
      "authorship_tag": "ABX9TyOqZDO6v/hDe9Ok73N2IGIk",
      "include_colab_link": true
    },
    "kernelspec": {
      "name": "python3",
      "display_name": "Python 3"
    },
    "language_info": {
      "name": "python"
    }
  },
  "cells": [
    {
      "cell_type": "markdown",
      "metadata": {
        "id": "view-in-github",
        "colab_type": "text"
      },
      "source": [
        "<a href=\"https://colab.research.google.com/github/prateekshapm/machine_learning/blob/main/Homework_1.ipynb\" target=\"_parent\"><img src=\"https://colab.research.google.com/assets/colab-badge.svg\" alt=\"Open In Colab\"/></a>"
      ]
    },
    {
      "cell_type": "markdown",
      "source": [
        "**1.Average of marks in class**"
      ],
      "metadata": {
        "id": "YRH8g8UEYd3f"
      }
    },
    {
      "cell_type": "code",
      "source": [
        "a=int(input(\"enter the number of students:\"))\n",
        "b=1\n",
        "if b<a :\n",
        "  marks=int(input(\"Enter the marks\"))\n",
        "  avg=sum+marks\n",
        "  c=b+1\n",
        "b=c\n",
        "avg=sum\n",
        "print(\"Average :\",sum)"
      ],
      "metadata": {
        "colab": {
          "base_uri": "https://localhost:8080/",
          "height": 280
        },
        "id": "gP550XEPYmAl",
        "outputId": "98a48d3b-cfd9-4f02-9c88-76cc8c725cdb"
      },
      "execution_count": null,
      "outputs": [
        {
          "name": "stdout",
          "output_type": "stream",
          "text": [
            "enter the number of students:2\n",
            "Enter the marks12\n"
          ]
        },
        {
          "output_type": "error",
          "ename": "TypeError",
          "evalue": "ignored",
          "traceback": [
            "\u001b[0;31m---------------------------------------------------------------------------\u001b[0m",
            "\u001b[0;31mTypeError\u001b[0m                                 Traceback (most recent call last)",
            "\u001b[0;32m<ipython-input-8-6ddbf7ded27f>\u001b[0m in \u001b[0;36m<cell line: 3>\u001b[0;34m()\u001b[0m\n\u001b[1;32m      3\u001b[0m \u001b[0;32mif\u001b[0m \u001b[0mb\u001b[0m\u001b[0;34m<\u001b[0m\u001b[0ma\u001b[0m \u001b[0;34m:\u001b[0m\u001b[0;34m\u001b[0m\u001b[0;34m\u001b[0m\u001b[0m\n\u001b[1;32m      4\u001b[0m   \u001b[0mmarks\u001b[0m\u001b[0;34m=\u001b[0m\u001b[0mint\u001b[0m\u001b[0;34m(\u001b[0m\u001b[0minput\u001b[0m\u001b[0;34m(\u001b[0m\u001b[0;34m\"Enter the marks\"\u001b[0m\u001b[0;34m)\u001b[0m\u001b[0;34m)\u001b[0m\u001b[0;34m\u001b[0m\u001b[0;34m\u001b[0m\u001b[0m\n\u001b[0;32m----> 5\u001b[0;31m   \u001b[0mavg\u001b[0m\u001b[0;34m=\u001b[0m\u001b[0msum\u001b[0m\u001b[0;34m+\u001b[0m\u001b[0mmarks\u001b[0m\u001b[0;34m\u001b[0m\u001b[0;34m\u001b[0m\u001b[0m\n\u001b[0m\u001b[1;32m      6\u001b[0m   \u001b[0mc\u001b[0m\u001b[0;34m=\u001b[0m\u001b[0mb\u001b[0m\u001b[0;34m+\u001b[0m\u001b[0;36m1\u001b[0m\u001b[0;34m\u001b[0m\u001b[0;34m\u001b[0m\u001b[0m\n\u001b[1;32m      7\u001b[0m \u001b[0mb\u001b[0m\u001b[0;34m=\u001b[0m\u001b[0mc\u001b[0m\u001b[0;34m\u001b[0m\u001b[0;34m\u001b[0m\u001b[0m\n",
            "\u001b[0;31mTypeError\u001b[0m: unsupported operand type(s) for +: 'builtin_function_or_method' and 'int'"
          ]
        }
      ]
    },
    {
      "cell_type": "markdown",
      "source": [
        "2.eligible of discount"
      ],
      "metadata": {
        "id": "QAVZXPKlap4C"
      }
    },
    {
      "cell_type": "code",
      "source": [
        "a=int(input(\"enter your age:\"))\n",
        "if a>18 and a<60:\n",
        "  print(\"you are eligible for 10%  \")\n",
        "elif a>60:\n",
        "  print(\"your are eligible for 18%\")\n"
      ],
      "metadata": {
        "colab": {
          "base_uri": "https://localhost:8080/"
        },
        "id": "NZJp9A-saw9C",
        "outputId": "1d5bbca8-1f4c-4998-d48d-62c8bb94cc7d"
      },
      "execution_count": null,
      "outputs": [
        {
          "output_type": "stream",
          "name": "stdout",
          "text": [
            "enter your age:27\n",
            "you are eligible for 10%  \n"
          ]
        }
      ]
    },
    {
      "cell_type": "markdown",
      "source": [
        "3.speed calculation"
      ],
      "metadata": {
        "id": "z_B-5ldTbcXR"
      }
    },
    {
      "cell_type": "code",
      "source": [
        "d=int(input(\"enter the distance\"))\n",
        "t=int(input(\"enter the time taken \"))\n",
        "speed =d/t\n",
        "print(\"the speed is \",speed)"
      ],
      "metadata": {
        "id": "12Vg5ykVbgjX"
      },
      "execution_count": null,
      "outputs": []
    },
    {
      "cell_type": "markdown",
      "source": [
        "4.calculation of discounted price"
      ],
      "metadata": {
        "id": "ArUUzAMcb4f4"
      }
    },
    {
      "cell_type": "code",
      "source": [
        "a=int(input(\"enter the price you want to calculate discount for \"))\n",
        "dis=a-10%a\n",
        "print(dis)"
      ],
      "metadata": {
        "colab": {
          "base_uri": "https://localhost:8080/"
        },
        "id": "7jYK0N1vbqtF",
        "outputId": "c5b15aad-f51b-4710-93ae-50f2510c3fed"
      },
      "execution_count": null,
      "outputs": [
        {
          "output_type": "stream",
          "name": "stdout",
          "text": [
            "enter the price you want to calculate discount for100\n",
            "90\n"
          ]
        }
      ]
    },
    {
      "cell_type": "markdown",
      "source": [
        "5.area of circle"
      ],
      "metadata": {
        "id": "babyFY5EciiI"
      }
    },
    {
      "cell_type": "code",
      "source": [
        "r=int(input(\"enter the radius of circle \"))\n",
        "area =(22/7)*r\n",
        "print(area)"
      ],
      "metadata": {
        "id": "V07eK2dRdN5t",
        "colab": {
          "base_uri": "https://localhost:8080/"
        },
        "outputId": "006e5077-c088-4312-c6d8-5dbbdf4f63cc"
      },
      "execution_count": null,
      "outputs": [
        {
          "output_type": "stream",
          "name": "stdout",
          "text": [
            "enter the radius of circle 2\n",
            "6.285714285714286\n"
          ]
        }
      ]
    },
    {
      "cell_type": "markdown",
      "source": [
        "**Swap of 2 numbers**"
      ],
      "metadata": {
        "id": "0_yMeW2Mr-di"
      }
    },
    {
      "cell_type": "code",
      "source": [
        "a=int(input(\"enter the a \"))\n",
        "b=int(input(\"enter the b \"))\n",
        "temp= a\n",
        "a=b\n",
        "b=temp\n",
        "print(\"a=\",a)\n",
        "print(\"b=\",b)"
      ],
      "metadata": {
        "colab": {
          "base_uri": "https://localhost:8080/"
        },
        "id": "5T-T3NP3sD8h",
        "outputId": "046eb6b6-de59-49ce-d96b-8e3dc485fc77"
      },
      "execution_count": 2,
      "outputs": [
        {
          "output_type": "stream",
          "name": "stdout",
          "text": [
            "enter the a 12\n",
            "enter the b 30\n",
            "a= 30\n",
            "b= 12\n"
          ]
        }
      ]
    },
    {
      "cell_type": "code",
      "source": [],
      "metadata": {
        "id": "syz6ihM9AzyY"
      },
      "execution_count": null,
      "outputs": []
    }
  ]
}