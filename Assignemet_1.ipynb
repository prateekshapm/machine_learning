{
  "nbformat": 4,
  "nbformat_minor": 0,
  "metadata": {
    "colab": {
      "provenance": [],
      "authorship_tag": "ABX9TyOrL2N31mEmstrWVx+ZI13j",
      "include_colab_link": true
    },
    "kernelspec": {
      "name": "python3",
      "display_name": "Python 3"
    },
    "language_info": {
      "name": "python"
    }
  },
  "cells": [
    {
      "cell_type": "markdown",
      "metadata": {
        "id": "view-in-github",
        "colab_type": "text"
      },
      "source": [
        "<a href=\"https://colab.research.google.com/github/prateekshapm/machine_learning/blob/main/Assignemet_1.ipynb\" target=\"_parent\"><img src=\"https://colab.research.google.com/assets/colab-badge.svg\" alt=\"Open In Colab\"/></a>"
      ]
    },
    {
      "cell_type": "code",
      "execution_count": null,
      "metadata": {
        "id": "7SoWZpMwWWBx"
      },
      "outputs": [],
      "source": []
    },
    {
      "cell_type": "markdown",
      "source": [
        "## **Assignemt 1**"
      ],
      "metadata": {
        "id": "AUBKSwSwWYqd"
      }
    },
    {
      "cell_type": "code",
      "source": [],
      "metadata": {
        "id": "rnTk67blWdxJ"
      },
      "execution_count": null,
      "outputs": []
    },
    {
      "cell_type": "markdown",
      "source": [
        "**1.Find the difference between 2 numbers,3 numbers**"
      ],
      "metadata": {
        "id": "cvkAQtQmWe7h"
      }
    },
    {
      "cell_type": "code",
      "source": [
        "a=10\n",
        "b=5\n",
        "diff=a-b\n",
        "print(diff)\n",
        "c=11\n",
        "d=c-diff\n",
        "print(d)"
      ],
      "metadata": {
        "colab": {
          "base_uri": "https://localhost:8080/"
        },
        "id": "1OSlL1nFWtra",
        "outputId": "98dbeece-f0da-49bb-970e-230bfe4995f8"
      },
      "execution_count": null,
      "outputs": [
        {
          "output_type": "stream",
          "name": "stdout",
          "text": [
            "5\n",
            "6\n"
          ]
        }
      ]
    },
    {
      "cell_type": "code",
      "source": [],
      "metadata": {
        "id": "p95E5m1NXA-c"
      },
      "execution_count": null,
      "outputs": []
    },
    {
      "cell_type": "markdown",
      "source": [
        "*2.Multiply 2 numbers*"
      ],
      "metadata": {
        "id": "FI-6k0LuXKAB"
      }
    },
    {
      "cell_type": "code",
      "source": [
        "a=2\n",
        "b=7\n",
        "mul=a*b\n",
        "print(mul)"
      ],
      "metadata": {
        "colab": {
          "base_uri": "https://localhost:8080/"
        },
        "id": "BAR3QuFMXP0q",
        "outputId": "4e717f8d-323d-4938-f20e-bc0f229ec277"
      },
      "execution_count": null,
      "outputs": [
        {
          "output_type": "stream",
          "name": "stdout",
          "text": [
            "14\n"
          ]
        }
      ]
    },
    {
      "cell_type": "code",
      "source": [],
      "metadata": {
        "id": "afE-wBxUXUr0"
      },
      "execution_count": null,
      "outputs": []
    },
    {
      "cell_type": "markdown",
      "source": [
        "3.find the q and rem of 2 number"
      ],
      "metadata": {
        "id": "p4gI5ACdXjLy"
      }
    },
    {
      "cell_type": "code",
      "source": [
        "a=2\n",
        "b=5\n",
        "q=b/a\n",
        "rem=b%a\n",
        "print(d)\n",
        "print (rem)"
      ],
      "metadata": {
        "colab": {
          "base_uri": "https://localhost:8080/"
        },
        "id": "2ptgVnJkXt8R",
        "outputId": "8794e257-c776-4048-f5d0-d7a1233f035b"
      },
      "execution_count": null,
      "outputs": [
        {
          "output_type": "stream",
          "name": "stdout",
          "text": [
            "2.5\n",
            "1\n"
          ]
        }
      ]
    },
    {
      "cell_type": "code",
      "source": [],
      "metadata": {
        "id": "XwR9MdvyX4MK"
      },
      "execution_count": null,
      "outputs": []
    },
    {
      "cell_type": "markdown",
      "source": [
        "**4.squaring of numbers**"
      ],
      "metadata": {
        "id": "m7JYKRZCYRIL"
      }
    },
    {
      "cell_type": "code",
      "source": [
        "a=5\n",
        "sqr=a**2\n",
        "print(sqr)"
      ],
      "metadata": {
        "colab": {
          "base_uri": "https://localhost:8080/"
        },
        "id": "rRI4WtNbYXfX",
        "outputId": "5a47480c-4cbe-4b44-be32-cf50db0e0cdd"
      },
      "execution_count": null,
      "outputs": [
        {
          "output_type": "stream",
          "name": "stdout",
          "text": [
            "25\n"
          ]
        }
      ]
    },
    {
      "cell_type": "code",
      "source": [],
      "metadata": {
        "id": "3eGeuYDHYeo9"
      },
      "execution_count": null,
      "outputs": []
    },
    {
      "cell_type": "markdown",
      "source": [
        "**5.finding the square root of the number**"
      ],
      "metadata": {
        "id": "O7trekkpYjg-"
      }
    },
    {
      "cell_type": "code",
      "source": [
        "a=4\n",
        "root=a**(1/2)\n",
        "print(root)\n"
      ],
      "metadata": {
        "colab": {
          "base_uri": "https://localhost:8080/"
        },
        "id": "T2YYAo4YYvdz",
        "outputId": "36b979f7-1472-443d-b868-68f6afa9db6b"
      },
      "execution_count": null,
      "outputs": [
        {
          "output_type": "stream",
          "name": "stdout",
          "text": [
            "2.0\n"
          ]
        }
      ]
    },
    {
      "cell_type": "markdown",
      "source": [
        "6.avg and percentage"
      ],
      "metadata": {
        "id": "NMCobnVzaAeK"
      }
    },
    {
      "cell_type": "code",
      "source": [
        "a=3\n",
        "b=4\n",
        "c=6\n",
        "d=5\n",
        "e=(a+b+c+d)/4\n",
        "print(e)\n",
        "per=(e/40)*100\n",
        "print(per)"
      ],
      "metadata": {
        "colab": {
          "base_uri": "https://localhost:8080/"
        },
        "id": "v9TuMQy0asOQ",
        "outputId": "a1fa8a6d-37c9-4d3f-b6ad-c21f661697ab"
      },
      "execution_count": null,
      "outputs": [
        {
          "output_type": "stream",
          "name": "stdout",
          "text": [
            "4.5\n",
            "11.25\n"
          ]
        }
      ]
    },
    {
      "cell_type": "code",
      "source": [],
      "metadata": {
        "id": "Iz0cnckgaHWC"
      },
      "execution_count": null,
      "outputs": []
    }
  ]
}