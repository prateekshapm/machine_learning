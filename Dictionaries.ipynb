{
  "nbformat": 4,
  "nbformat_minor": 0,
  "metadata": {
    "colab": {
      "provenance": [],
      "authorship_tag": "ABX9TyNVb/uvZ1Z5XBhD0gFo/wRL",
      "include_colab_link": true
    },
    "kernelspec": {
      "name": "python3",
      "display_name": "Python 3"
    },
    "language_info": {
      "name": "python"
    }
  },
  "cells": [
    {
      "cell_type": "markdown",
      "metadata": {
        "id": "view-in-github",
        "colab_type": "text"
      },
      "source": [
        "<a href=\"https://colab.research.google.com/github/prateekshapm/machine_learning/blob/main/Dictionaries.ipynb\" target=\"_parent\"><img src=\"https://colab.research.google.com/assets/colab-badge.svg\" alt=\"Open In Colab\"/></a>"
      ]
    },
    {
      "cell_type": "code",
      "execution_count": null,
      "metadata": {
        "id": "C3zjh1dXNtRm"
      },
      "outputs": [],
      "source": []
    },
    {
      "cell_type": "markdown",
      "source": [
        "# ***Dictionaries***\n",
        "\n",
        "1.Ordered\n",
        "\n",
        "2.Changable\n",
        "\n",
        "3.Doesnt allow duplicates\n",
        "\n",
        "4.Always in Pair"
      ],
      "metadata": {
        "id": "ZzuKGYSjOBzE"
      }
    },
    {
      "cell_type": "code",
      "source": [
        "dict1={\"name\":\"prateeksha\",\n",
        "        \"gender\":\"female\"}\n",
        "print(type(dict1))\n",
        "print(dict1)\n"
      ],
      "metadata": {
        "colab": {
          "base_uri": "https://localhost:8080/"
        },
        "id": "ajcujyqvOOtg",
        "outputId": "5ea75126-e2be-4c1f-91be-10c0c173ca59"
      },
      "execution_count": null,
      "outputs": [
        {
          "output_type": "stream",
          "name": "stdout",
          "text": [
            "<class 'dict'>\n",
            "{'name': 'prateeksha', 'gender': 'female'}\n"
          ]
        }
      ]
    },
    {
      "cell_type": "code",
      "source": [
        "dict1={\"name\":\"prateeksha\",\n",
        "        \"gender\":\"female\",\n",
        "        \"age\":\"12\",\n",
        "        \"age\":\"21\"}\n",
        "\n",
        "print(dict1)"
      ],
      "metadata": {
        "colab": {
          "base_uri": "https://localhost:8080/"
        },
        "id": "pYfDmu1xOpnx",
        "outputId": "453de8fd-9f3e-49d3-f12d-7e775cb3da63"
      },
      "execution_count": null,
      "outputs": [
        {
          "output_type": "stream",
          "name": "stdout",
          "text": [
            "{'name': 'prateeksha', 'gender': 'female', 'age': '21'}\n"
          ]
        }
      ]
    },
    {
      "cell_type": "code",
      "source": [
        "dict2=dict(time=\"12\",day=\"saturday\")\n",
        "print(type(dict2))\n",
        "print(dict2)"
      ],
      "metadata": {
        "colab": {
          "base_uri": "https://localhost:8080/"
        },
        "id": "EhTbdDSJPFQU",
        "outputId": "a22f047f-d17c-4be1-856c-469d45f8f06d"
      },
      "execution_count": null,
      "outputs": [
        {
          "output_type": "stream",
          "name": "stdout",
          "text": [
            "<class 'dict'>\n",
            "{'time': '12', 'day': 'saturday'}\n"
          ]
        }
      ]
    },
    {
      "cell_type": "code",
      "source": [],
      "metadata": {
        "id": "xMq4b4SpPjKz"
      },
      "execution_count": null,
      "outputs": []
    }
  ]
}