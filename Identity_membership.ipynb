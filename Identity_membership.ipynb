{
  "nbformat": 4,
  "nbformat_minor": 0,
  "metadata": {
    "colab": {
      "provenance": [],
      "authorship_tag": "ABX9TyOhmckToM/q2uIJh277n4Qe",
      "include_colab_link": true
    },
    "kernelspec": {
      "name": "python3",
      "display_name": "Python 3"
    },
    "language_info": {
      "name": "python"
    }
  },
  "cells": [
    {
      "cell_type": "markdown",
      "metadata": {
        "id": "view-in-github",
        "colab_type": "text"
      },
      "source": [
        "<a href=\"https://colab.research.google.com/github/prateekshapm/machine_learning/blob/main/Identity_membership.ipynb\" target=\"_parent\"><img src=\"https://colab.research.google.com/assets/colab-badge.svg\" alt=\"Open In Colab\"/></a>"
      ]
    },
    {
      "cell_type": "markdown",
      "source": [
        "**Identity Operations**"
      ],
      "metadata": {
        "id": "Tw9NMh9k3ZPc"
      }
    },
    {
      "cell_type": "code",
      "execution_count": null,
      "metadata": {
        "colab": {
          "base_uri": "https://localhost:8080/"
        },
        "id": "mt6rAzsN1rp3",
        "outputId": "d00c3756-5b76-4d85-ed18-1869a9018950"
      },
      "outputs": [
        {
          "output_type": "stream",
          "name": "stdout",
          "text": [
            "True\n"
          ]
        }
      ],
      "source": [
        "x=[\"a\",\"b\"]\n",
        "y=[\"a\",\"b\"]  #even if they are same they are not true\n",
        "z=x\n",
        "print(z is x)\n"
      ]
    },
    {
      "cell_type": "code",
      "source": [
        "x=[\"a\",\"b\"]\n",
        "y=[\"a\",\"b\"]  #even if they are same they are not true\n",
        "z=x\n",
        "z=y\n",
        "print(z is x)         #z is over written it takes new value of z\n",
        "print(y is x)\n",
        "print(z is y)"
      ],
      "metadata": {
        "colab": {
          "base_uri": "https://localhost:8080/"
        },
        "id": "63-2QYXH2YPT",
        "outputId": "cbf95152-32f5-4b36-b3c5-72f27eb54e24"
      },
      "execution_count": null,
      "outputs": [
        {
          "output_type": "stream",
          "name": "stdout",
          "text": [
            "False\n",
            "False\n",
            "True\n"
          ]
        }
      ]
    },
    {
      "cell_type": "code",
      "source": [
        "x=[\"a\",\"b\"]\n",
        "y=[\"a\",\"b\"]  #even if they are same they are not true\n",
        "z=x\n",
        "z=y                    #z is over written it takes new value of z\n",
        "print(z is not x)\n",
        "print(y is not x)\n",
        "print(z is y)"
      ],
      "metadata": {
        "colab": {
          "base_uri": "https://localhost:8080/"
        },
        "id": "ENNgxw3V2m6-",
        "outputId": "b8ed7a27-3b79-49dc-fac9-a4626e2b635a"
      },
      "execution_count": null,
      "outputs": [
        {
          "output_type": "stream",
          "name": "stdout",
          "text": [
            "True\n",
            "True\n",
            "True\n"
          ]
        }
      ]
    },
    {
      "cell_type": "markdown",
      "source": [
        "Membership operations"
      ],
      "metadata": {
        "id": "vH3RXoD83m5p"
      }
    },
    {
      "cell_type": "code",
      "source": [
        "x=[\"a\",\"b\"]\n",
        "y=[\"A\",\"B\"]\n",
        "print(\"a\" in x)\n",
        "print(\"A\" in y)\n",
        "print(\"a\" in y)\n",
        "print(\"A\" in x)"
      ],
      "metadata": {
        "colab": {
          "base_uri": "https://localhost:8080/"
        },
        "id": "dFXAATV_3qeU",
        "outputId": "94106546-0e94-4086-9037-0216a6fccbc2"
      },
      "execution_count": null,
      "outputs": [
        {
          "output_type": "stream",
          "name": "stdout",
          "text": [
            "True\n",
            "True\n",
            "False\n",
            "False\n"
          ]
        }
      ]
    },
    {
      "cell_type": "code",
      "source": [],
      "metadata": {
        "id": "f-LGmph94C7D"
      },
      "execution_count": null,
      "outputs": []
    }
  ]
}