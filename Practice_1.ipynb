{
  "nbformat": 4,
  "nbformat_minor": 0,
  "metadata": {
    "colab": {
      "provenance": [],
      "mount_file_id": "1Ki6DZAx2GodLw9QHsyAgcQVCkHdZnWxm",
      "authorship_tag": "ABX9TyPQ8aj1JRseswZVxy5X+CbZ",
      "include_colab_link": true
    },
    "kernelspec": {
      "name": "python3",
      "display_name": "Python 3"
    },
    "language_info": {
      "name": "python"
    }
  },
  "cells": [
    {
      "cell_type": "markdown",
      "metadata": {
        "id": "view-in-github",
        "colab_type": "text"
      },
      "source": [
        "<a href=\"https://colab.research.google.com/github/prateekshapm/machine_learning/blob/main/Practice_1.ipynb\" target=\"_parent\"><img src=\"https://colab.research.google.com/assets/colab-badge.svg\" alt=\"Open In Colab\"/></a>"
      ]
    },
    {
      "cell_type": "markdown",
      "source": [
        "1.Read a CSV file with data in multiple columns and compute mean, median mode of each of the columns."
      ],
      "metadata": {
        "id": "WHOHZuBNAXR-"
      }
    },
    {
      "cell_type": "code",
      "execution_count": null,
      "metadata": {
        "colab": {
          "base_uri": "https://localhost:8080/"
        },
        "id": "Q7Bgq9RZ4Qys",
        "outputId": "42025944-8cdc-4dda-dbe3-656fcb2bb1d5"
      },
      "outputs": [
        {
          "output_type": "stream",
          "name": "stdout",
          "text": [
            "    Sell   \"List\"   \"Living\"   \"Rooms\"   \"Beds\"   \"Baths\"   \"Age\"   \"Acres\"  \\\n",
            "0    142      160         28        10        5         3      60      0.28   \n",
            "1    175      180         18         8        4         1      12      0.43   \n",
            "2    129      132         13         6        3         1      41      0.33   \n",
            "3    138      140         17         7        3         1      22      0.46   \n",
            "4    232      240         25         8        4         3       5      2.05   \n",
            "5    135      140         18         7        4         3       9      0.57   \n",
            "6    150      160         20         8        4         3      18      4.00   \n",
            "7    207      225         22         8        4         2      16      2.22   \n",
            "8    271      285         30        10        5         2      30      0.53   \n",
            "9     89       90         10         5        3         1      43      0.30   \n",
            "10   153      157         22         8        3         3      18      0.38   \n",
            "11    87       90         16         7        3         1      50      0.65   \n",
            "12   234      238         25         8        4         2       2      1.61   \n",
            "13   106      116         20         8        4         1      13      0.22   \n",
            "14   175      180         22         8        4         2      15      2.06   \n",
            "15   165      170         17         8        4         2      33      0.46   \n",
            "16   166      170         23         9        4         2      37      0.27   \n",
            "17   136      140         19         7        3         1      22      0.63   \n",
            "18   148      160         17         7        3         2      13      0.36   \n",
            "19   151      153         19         8        4         2      24      0.34   \n",
            "20   180      190         24         9        4         2      10      1.55   \n",
            "21   293      305         26         8        4         3       6      0.46   \n",
            "22   167      170         20         9        4         2      46      0.46   \n",
            "23   190      193         22         9        5         2      37      0.48   \n",
            "24   184      190         21         9        5         2      27      1.30   \n",
            "25   157      165         20         8        4         2       7      0.30   \n",
            "26   110      115         16         8        4         1      26      0.29   \n",
            "27   135      145         18         7        4         1      35      0.43   \n",
            "28   567      625         64        11        4         4       4      0.85   \n",
            "29   180      185         20         8        4         2      11      1.00   \n",
            "30   183      188         17         7        3         2      16      3.00   \n",
            "31   185      193         20         9        3         2      56      6.49   \n",
            "32   152      155         17         8        4         1      33      0.70   \n",
            "33   148      153         13         6        3         2      22      0.39   \n",
            "34   152      159         15         7        3         1      25      0.59   \n",
            "35   146      150         16         7        3         1      31      0.36   \n",
            "36   170      190         24        10        3         2      33      0.57   \n",
            "37   127      130         20         8        4         1      65      0.40   \n",
            "38   265      270         36        10        6         3      33      1.20   \n",
            "39   157      163         18         8        4         2      12      1.13   \n",
            "40   128      135         17         9        4         1      25      0.52   \n",
            "41   110      120         15         8        4         2      11      0.59   \n",
            "42   123      130         18         8        4         2      43      0.39   \n",
            "43   212      230         39        12        5         3     202      4.29   \n",
            "44   145      145         18         8        4         2      44      0.22   \n",
            "45   129      135         10         6        3         1      15      1.00   \n",
            "46   143      145         21         7        4         2      10      1.20   \n",
            "47   247      252         29         9        4         2       4      1.25   \n",
            "48   111      120         15         8        3         1      97      1.11   \n",
            "49   133      145         26         7        3         1      42      0.36   \n",
            "\n",
            "     \"Taxes\"  \n",
            "0       3167  \n",
            "1       4033  \n",
            "2       1471  \n",
            "3       3204  \n",
            "4       3613  \n",
            "5       3028  \n",
            "6       3131  \n",
            "7       5158  \n",
            "8       5702  \n",
            "9       2054  \n",
            "10      4127  \n",
            "11      1445  \n",
            "12      2087  \n",
            "13      2818  \n",
            "14      3917  \n",
            "15      2220  \n",
            "16      3498  \n",
            "17      3607  \n",
            "18      3648  \n",
            "19      3561  \n",
            "20      4681  \n",
            "21      7088  \n",
            "22      3482  \n",
            "23      3920  \n",
            "24      4162  \n",
            "25      3785  \n",
            "26      3103  \n",
            "27      3363  \n",
            "28     12192  \n",
            "29      3831  \n",
            "30      3564  \n",
            "31      3765  \n",
            "32      3361  \n",
            "33      3950  \n",
            "34      3055  \n",
            "35      2950  \n",
            "36      3346  \n",
            "37      3334  \n",
            "38      5853  \n",
            "39      3982  \n",
            "40      3374  \n",
            "41      3119  \n",
            "42      3268  \n",
            "43      3648  \n",
            "44      2783  \n",
            "45      2438  \n",
            "46      3529  \n",
            "47      4626  \n",
            "48      3205  \n",
            "49      3059  \n"
          ]
        }
      ],
      "source": [
        "import pandas as pd\n",
        "import numpy as np\n",
        "df=pd.read_csv('/homes.csv')\n",
        "print(df)\n"
      ]
    },
    {
      "cell_type": "code",
      "source": [
        "df=pd.read_csv('/homes.csv')\n",
        "df.mean()"
      ],
      "metadata": {
        "colab": {
          "base_uri": "https://localhost:8080/"
        },
        "id": "tqW0ywUl9pWm",
        "outputId": "89be0f46-f4b1-45b2-91eb-217c7b18390a"
      },
      "execution_count": null,
      "outputs": [
        {
          "output_type": "execute_result",
          "data": {
            "text/plain": [
              "Sell          170.3600\n",
              " \"List\"       178.3400\n",
              " \"Living\"      21.1200\n",
              " \"Rooms\"        8.0600\n",
              " \"Beds\"         3.8200\n",
              " \"Baths\"        1.8600\n",
              " \"Age\"         30.2200\n",
              " \"Acres\"        1.0206\n",
              " \"Taxes\"     3706.1000\n",
              "dtype: float64"
            ]
          },
          "metadata": {},
          "execution_count": 30
        }
      ]
    },
    {
      "cell_type": "code",
      "source": [
        "df=pd.read_csv('/homes.csv')\n",
        "df.mode()"
      ],
      "metadata": {
        "colab": {
          "base_uri": "https://localhost:8080/",
          "height": 300
        },
        "id": "FRSoaT4h-xi5",
        "outputId": "5314ff5a-2d78-408a-a4f6-9eac4981902e"
      },
      "execution_count": null,
      "outputs": [
        {
          "output_type": "execute_result",
          "data": {
            "text/plain": [
              "   Sell   \"List\"   \"Living\"   \"Rooms\"   \"Beds\"   \"Baths\"   \"Age\"   \"Acres\"  \\\n",
              "0   110    145.0       20.0       8.0      4.0       2.0    33.0      0.46   \n",
              "1   129      NaN        NaN       NaN      NaN       NaN     NaN       NaN   \n",
              "2   135      NaN        NaN       NaN      NaN       NaN     NaN       NaN   \n",
              "3   148      NaN        NaN       NaN      NaN       NaN     NaN       NaN   \n",
              "4   152      NaN        NaN       NaN      NaN       NaN     NaN       NaN   \n",
              "5   157      NaN        NaN       NaN      NaN       NaN     NaN       NaN   \n",
              "6   175      NaN        NaN       NaN      NaN       NaN     NaN       NaN   \n",
              "7   180      NaN        NaN       NaN      NaN       NaN     NaN       NaN   \n",
              "\n",
              "    \"Taxes\"  \n",
              "0    3648.0  \n",
              "1       NaN  \n",
              "2       NaN  \n",
              "3       NaN  \n",
              "4       NaN  \n",
              "5       NaN  \n",
              "6       NaN  \n",
              "7       NaN  "
            ],
            "text/html": [
              "\n",
              "  <div id=\"df-fe5a8492-1ac5-4c3e-b703-13371bfe5de3\" class=\"colab-df-container\">\n",
              "    <div>\n",
              "<style scoped>\n",
              "    .dataframe tbody tr th:only-of-type {\n",
              "        vertical-align: middle;\n",
              "    }\n",
              "\n",
              "    .dataframe tbody tr th {\n",
              "        vertical-align: top;\n",
              "    }\n",
              "\n",
              "    .dataframe thead th {\n",
              "        text-align: right;\n",
              "    }\n",
              "</style>\n",
              "<table border=\"1\" class=\"dataframe\">\n",
              "  <thead>\n",
              "    <tr style=\"text-align: right;\">\n",
              "      <th></th>\n",
              "      <th>Sell</th>\n",
              "      <th>\"List\"</th>\n",
              "      <th>\"Living\"</th>\n",
              "      <th>\"Rooms\"</th>\n",
              "      <th>\"Beds\"</th>\n",
              "      <th>\"Baths\"</th>\n",
              "      <th>\"Age\"</th>\n",
              "      <th>\"Acres\"</th>\n",
              "      <th>\"Taxes\"</th>\n",
              "    </tr>\n",
              "  </thead>\n",
              "  <tbody>\n",
              "    <tr>\n",
              "      <th>0</th>\n",
              "      <td>110</td>\n",
              "      <td>145.0</td>\n",
              "      <td>20.0</td>\n",
              "      <td>8.0</td>\n",
              "      <td>4.0</td>\n",
              "      <td>2.0</td>\n",
              "      <td>33.0</td>\n",
              "      <td>0.46</td>\n",
              "      <td>3648.0</td>\n",
              "    </tr>\n",
              "    <tr>\n",
              "      <th>1</th>\n",
              "      <td>129</td>\n",
              "      <td>NaN</td>\n",
              "      <td>NaN</td>\n",
              "      <td>NaN</td>\n",
              "      <td>NaN</td>\n",
              "      <td>NaN</td>\n",
              "      <td>NaN</td>\n",
              "      <td>NaN</td>\n",
              "      <td>NaN</td>\n",
              "    </tr>\n",
              "    <tr>\n",
              "      <th>2</th>\n",
              "      <td>135</td>\n",
              "      <td>NaN</td>\n",
              "      <td>NaN</td>\n",
              "      <td>NaN</td>\n",
              "      <td>NaN</td>\n",
              "      <td>NaN</td>\n",
              "      <td>NaN</td>\n",
              "      <td>NaN</td>\n",
              "      <td>NaN</td>\n",
              "    </tr>\n",
              "    <tr>\n",
              "      <th>3</th>\n",
              "      <td>148</td>\n",
              "      <td>NaN</td>\n",
              "      <td>NaN</td>\n",
              "      <td>NaN</td>\n",
              "      <td>NaN</td>\n",
              "      <td>NaN</td>\n",
              "      <td>NaN</td>\n",
              "      <td>NaN</td>\n",
              "      <td>NaN</td>\n",
              "    </tr>\n",
              "    <tr>\n",
              "      <th>4</th>\n",
              "      <td>152</td>\n",
              "      <td>NaN</td>\n",
              "      <td>NaN</td>\n",
              "      <td>NaN</td>\n",
              "      <td>NaN</td>\n",
              "      <td>NaN</td>\n",
              "      <td>NaN</td>\n",
              "      <td>NaN</td>\n",
              "      <td>NaN</td>\n",
              "    </tr>\n",
              "    <tr>\n",
              "      <th>5</th>\n",
              "      <td>157</td>\n",
              "      <td>NaN</td>\n",
              "      <td>NaN</td>\n",
              "      <td>NaN</td>\n",
              "      <td>NaN</td>\n",
              "      <td>NaN</td>\n",
              "      <td>NaN</td>\n",
              "      <td>NaN</td>\n",
              "      <td>NaN</td>\n",
              "    </tr>\n",
              "    <tr>\n",
              "      <th>6</th>\n",
              "      <td>175</td>\n",
              "      <td>NaN</td>\n",
              "      <td>NaN</td>\n",
              "      <td>NaN</td>\n",
              "      <td>NaN</td>\n",
              "      <td>NaN</td>\n",
              "      <td>NaN</td>\n",
              "      <td>NaN</td>\n",
              "      <td>NaN</td>\n",
              "    </tr>\n",
              "    <tr>\n",
              "      <th>7</th>\n",
              "      <td>180</td>\n",
              "      <td>NaN</td>\n",
              "      <td>NaN</td>\n",
              "      <td>NaN</td>\n",
              "      <td>NaN</td>\n",
              "      <td>NaN</td>\n",
              "      <td>NaN</td>\n",
              "      <td>NaN</td>\n",
              "      <td>NaN</td>\n",
              "    </tr>\n",
              "  </tbody>\n",
              "</table>\n",
              "</div>\n",
              "    <div class=\"colab-df-buttons\">\n",
              "\n",
              "  <div class=\"colab-df-container\">\n",
              "    <button class=\"colab-df-convert\" onclick=\"convertToInteractive('df-fe5a8492-1ac5-4c3e-b703-13371bfe5de3')\"\n",
              "            title=\"Convert this dataframe to an interactive table.\"\n",
              "            style=\"display:none;\">\n",
              "\n",
              "  <svg xmlns=\"http://www.w3.org/2000/svg\" height=\"24px\" viewBox=\"0 -960 960 960\">\n",
              "    <path d=\"M120-120v-720h720v720H120Zm60-500h600v-160H180v160Zm220 220h160v-160H400v160Zm0 220h160v-160H400v160ZM180-400h160v-160H180v160Zm440 0h160v-160H620v160ZM180-180h160v-160H180v160Zm440 0h160v-160H620v160Z\"/>\n",
              "  </svg>\n",
              "    </button>\n",
              "\n",
              "  <style>\n",
              "    .colab-df-container {\n",
              "      display:flex;\n",
              "      gap: 12px;\n",
              "    }\n",
              "\n",
              "    .colab-df-convert {\n",
              "      background-color: #E8F0FE;\n",
              "      border: none;\n",
              "      border-radius: 50%;\n",
              "      cursor: pointer;\n",
              "      display: none;\n",
              "      fill: #1967D2;\n",
              "      height: 32px;\n",
              "      padding: 0 0 0 0;\n",
              "      width: 32px;\n",
              "    }\n",
              "\n",
              "    .colab-df-convert:hover {\n",
              "      background-color: #E2EBFA;\n",
              "      box-shadow: 0px 1px 2px rgba(60, 64, 67, 0.3), 0px 1px 3px 1px rgba(60, 64, 67, 0.15);\n",
              "      fill: #174EA6;\n",
              "    }\n",
              "\n",
              "    .colab-df-buttons div {\n",
              "      margin-bottom: 4px;\n",
              "    }\n",
              "\n",
              "    [theme=dark] .colab-df-convert {\n",
              "      background-color: #3B4455;\n",
              "      fill: #D2E3FC;\n",
              "    }\n",
              "\n",
              "    [theme=dark] .colab-df-convert:hover {\n",
              "      background-color: #434B5C;\n",
              "      box-shadow: 0px 1px 3px 1px rgba(0, 0, 0, 0.15);\n",
              "      filter: drop-shadow(0px 1px 2px rgba(0, 0, 0, 0.3));\n",
              "      fill: #FFFFFF;\n",
              "    }\n",
              "  </style>\n",
              "\n",
              "    <script>\n",
              "      const buttonEl =\n",
              "        document.querySelector('#df-fe5a8492-1ac5-4c3e-b703-13371bfe5de3 button.colab-df-convert');\n",
              "      buttonEl.style.display =\n",
              "        google.colab.kernel.accessAllowed ? 'block' : 'none';\n",
              "\n",
              "      async function convertToInteractive(key) {\n",
              "        const element = document.querySelector('#df-fe5a8492-1ac5-4c3e-b703-13371bfe5de3');\n",
              "        const dataTable =\n",
              "          await google.colab.kernel.invokeFunction('convertToInteractive',\n",
              "                                                    [key], {});\n",
              "        if (!dataTable) return;\n",
              "\n",
              "        const docLinkHtml = 'Like what you see? Visit the ' +\n",
              "          '<a target=\"_blank\" href=https://colab.research.google.com/notebooks/data_table.ipynb>data table notebook</a>'\n",
              "          + ' to learn more about interactive tables.';\n",
              "        element.innerHTML = '';\n",
              "        dataTable['output_type'] = 'display_data';\n",
              "        await google.colab.output.renderOutput(dataTable, element);\n",
              "        const docLink = document.createElement('div');\n",
              "        docLink.innerHTML = docLinkHtml;\n",
              "        element.appendChild(docLink);\n",
              "      }\n",
              "    </script>\n",
              "  </div>\n",
              "\n",
              "\n",
              "<div id=\"df-de4d1a19-ba59-4c49-ae5e-d1787c00f978\">\n",
              "  <button class=\"colab-df-quickchart\" onclick=\"quickchart('df-de4d1a19-ba59-4c49-ae5e-d1787c00f978')\"\n",
              "            title=\"Suggest charts.\"\n",
              "            style=\"display:none;\">\n",
              "\n",
              "<svg xmlns=\"http://www.w3.org/2000/svg\" height=\"24px\"viewBox=\"0 0 24 24\"\n",
              "     width=\"24px\">\n",
              "    <g>\n",
              "        <path d=\"M19 3H5c-1.1 0-2 .9-2 2v14c0 1.1.9 2 2 2h14c1.1 0 2-.9 2-2V5c0-1.1-.9-2-2-2zM9 17H7v-7h2v7zm4 0h-2V7h2v10zm4 0h-2v-4h2v4z\"/>\n",
              "    </g>\n",
              "</svg>\n",
              "  </button>\n",
              "\n",
              "<style>\n",
              "  .colab-df-quickchart {\n",
              "    background-color: #E8F0FE;\n",
              "    border: none;\n",
              "    border-radius: 50%;\n",
              "    cursor: pointer;\n",
              "    display: none;\n",
              "    fill: #1967D2;\n",
              "    height: 32px;\n",
              "    padding: 0 0 0 0;\n",
              "    width: 32px;\n",
              "  }\n",
              "\n",
              "  .colab-df-quickchart:hover {\n",
              "    background-color: #E2EBFA;\n",
              "    box-shadow: 0px 1px 2px rgba(60, 64, 67, 0.3), 0px 1px 3px 1px rgba(60, 64, 67, 0.15);\n",
              "    fill: #174EA6;\n",
              "  }\n",
              "\n",
              "  [theme=dark] .colab-df-quickchart {\n",
              "    background-color: #3B4455;\n",
              "    fill: #D2E3FC;\n",
              "  }\n",
              "\n",
              "  [theme=dark] .colab-df-quickchart:hover {\n",
              "    background-color: #434B5C;\n",
              "    box-shadow: 0px 1px 3px 1px rgba(0, 0, 0, 0.15);\n",
              "    filter: drop-shadow(0px 1px 2px rgba(0, 0, 0, 0.3));\n",
              "    fill: #FFFFFF;\n",
              "  }\n",
              "</style>\n",
              "\n",
              "  <script>\n",
              "    async function quickchart(key) {\n",
              "      const charts = await google.colab.kernel.invokeFunction(\n",
              "          'suggestCharts', [key], {});\n",
              "    }\n",
              "    (() => {\n",
              "      let quickchartButtonEl =\n",
              "        document.querySelector('#df-de4d1a19-ba59-4c49-ae5e-d1787c00f978 button');\n",
              "      quickchartButtonEl.style.display =\n",
              "        google.colab.kernel.accessAllowed ? 'block' : 'none';\n",
              "    })();\n",
              "  </script>\n",
              "</div>\n",
              "    </div>\n",
              "  </div>\n"
            ]
          },
          "metadata": {},
          "execution_count": 31
        }
      ]
    },
    {
      "cell_type": "code",
      "source": [
        "df=pd.read_csv('/homes.csv')\n",
        "df.median()"
      ],
      "metadata": {
        "colab": {
          "base_uri": "https://localhost:8080/"
        },
        "id": "lSdgnVku-4Il",
        "outputId": "d7b20e35-d46e-4337-a3c1-eb17083ad378"
      },
      "execution_count": null,
      "outputs": [
        {
          "output_type": "execute_result",
          "data": {
            "text/plain": [
              "Sell          152.00\n",
              " \"List\"       160.00\n",
              " \"Living\"      20.00\n",
              " \"Rooms\"        8.00\n",
              " \"Beds\"         4.00\n",
              " \"Baths\"        2.00\n",
              " \"Age\"         24.50\n",
              " \"Acres\"        0.55\n",
              " \"Taxes\"     3490.00\n",
              "dtype: float64"
            ]
          },
          "metadata": {},
          "execution_count": 32
        }
      ]
    },
    {
      "cell_type": "markdown",
      "source": [
        "2. Plot each of the columns with different colors (check what kind of graph is suitable )"
      ],
      "metadata": {
        "id": "9Zez0F9_AnRY"
      }
    },
    {
      "cell_type": "code",
      "source": [
        "import matplotlib.pyplot as plt\n",
        "\n",
        "df=pd.read_csv('/homes.csv')\n",
        "df.plot(kind='bar')\n",
        "plt.show()"
      ],
      "metadata": {
        "colab": {
          "base_uri": "https://localhost:8080/",
          "height": 434
        },
        "id": "c80fE0MB-9kl",
        "outputId": "eb0cfc28-4137-4902-f25f-3469a217cab9"
      },
      "execution_count": null,
      "outputs": [
        {
          "output_type": "display_data",
          "data": {
            "text/plain": [
              "<Figure size 640x480 with 1 Axes>"
            ],
            "image/png": "[encoded data removed]"
          },
          "metadata": {}
        }
      ]
    },
    {
      "cell_type": "markdown",
      "source": [
        "3. Create a game (like lottery/ rock paper/scissors) and write a python code to record how many times the computer won and the user won in an excel file. Plot the graph showing the success rate of user and computer with different colors"
      ],
      "metadata": {
        "id": "My6R4V-vA3Ad"
      }
    },
    {
      "cell_type": "code",
      "source": [
        "!pip install pandas openpyxl\n"
      ],
      "metadata": {
        "colab": {
          "base_uri": "https://localhost:8080/"
        },
        "id": "fT1VOmcqjt2n",
        "outputId": "23ef8a8e-dd8a-42ee-e3c8-190625693179"
      },
      "execution_count": null,
      "outputs": [
        {
          "output_type": "stream",
          "name": "stdout",
          "text": [
            "Requirement already satisfied: pandas in /usr/local/lib/python3.10/dist-packages (1.5.3)\n",
            "Requirement already satisfied: openpyxl in /usr/local/lib/python3.10/dist-packages (3.1.2)\n",
            "Requirement already satisfied: python-dateutil>=2.8.1 in /usr/local/lib/python3.10/dist-packages (from pandas) (2.8.2)\n",
            "Requirement already satisfied: pytz>=2020.1 in /usr/local/lib/python3.10/dist-packages (from pandas) (2023.3)\n",
            "Requirement already satisfied: numpy>=1.21.0 in /usr/local/lib/python3.10/dist-packages (from pandas) (1.23.5)\n",
            "Requirement already satisfied: et-xmlfile in /usr/local/lib/python3.10/dist-packages (from openpyxl) (1.1.0)\n",
            "Requirement already satisfied: six>=1.5 in /usr/local/lib/python3.10/dist-packages (from python-dateutil>=2.8.1->pandas) (1.16.0)\n"
          ]
        }
      ]
    },
    {
      "cell_type": "code",
      "source": [
        "import random\n",
        "import matplotlib.pyplot as plt\n",
        "\n",
        "# Initialize win counters\n",
        "user_wins = 0\n",
        "computer_wins = 0\n",
        "\n",
        "# Game loop\n",
        "while True:\n",
        "    user_choice = input(\"Enter your choice (rock, paper, scissors) or 'q' to quit: \").lower()\n",
        "\n",
        "    if user_choice == 'q':\n",
        "        break\n",
        "\n",
        "    if user_choice not in ['rock', 'paper', 'scissors']:\n",
        "        print(\"Invalid choice. Please choose rock, paper, or scissors.\")\n",
        "        continue\n",
        "\n",
        "    computer_choice = random.choice(['rock', 'paper', 'scissors'])\n",
        "\n",
        "    print(f\"Computer chose: {computer_choice}\")\n",
        "\n",
        "    # Determine the winner\n",
        "    if user_choice == computer_choice:\n",
        "        result = \"It's a tie!\"\n",
        "    elif (user_choice == 'rock' and computer_choice == 'scissors') or \\\n",
        "         (user_choice == 'paper' and computer_choice == 'rock') or \\\n",
        "         (user_choice == 'scissors' and computer_choice == 'paper'):\n",
        "        result = \"You win!\"\n",
        "        user_wins += 1\n",
        "    else:\n",
        "        result = \"Computer wins!\"\n",
        "        computer_wins += 1\n",
        "\n",
        "    print(result)\n",
        "\n",
        "print(\"Game ended.\")\n",
        "\n",
        "# Plotting the results\n",
        "labels = ['User Wins', 'Computer Wins']\n",
        "values = [user_wins, computer_wins]\n",
        "\n",
        "plt.bar(labels, values)\n",
        "plt.ylabel('Number of Wins')\n",
        "plt.title('Rock-Paper-Scissors Game Results')\n",
        "plt.show()\n"
      ],
      "metadata": {
        "colab": {
          "base_uri": "https://localhost:8080/",
          "height": 591
        },
        "id": "sXt61WTEhkL0",
        "outputId": "54bbd1f8-611f-4834-9c36-33fd7c89f22f"
      },
      "execution_count": 4,
      "outputs": [
        {
          "output_type": "stream",
          "name": "stdout",
          "text": [
            "Enter your choice (rock, paper, scissors) or 'q' to quit: rock\n",
            "Computer chose: paper\n",
            "Computer wins!\n",
            "Enter your choice (rock, paper, scissors) or 'q' to quit: rock\n",
            "Computer chose: scissors\n",
            "You win!\n",
            "Enter your choice (rock, paper, scissors) or 'q' to quit: q\n",
            "Game ended.\n"
          ]
        },
        {
          "output_type": "display_data",
          "data": {
            "text/plain": [
              "<Figure size 640x480 with 1 Axes>"
            ],
            "image/png": "[encoded data removed]"
          },
          "metadata": {}
        }
      ]
    },
    {
      "cell_type": "code",
      "source": [
        "import random\n",
        "import pandas as pd\n",
        "import matplotlib.pyplot as plt\n",
        "\n",
        "# Initialize win counters\n",
        "user_wins = 0\n",
        "computer_wins = 0\n",
        "\n",
        "# Create an empty DataFrame to store results\n",
        "results_df = pd.DataFrame(columns=['Round', 'User Wins', 'Computer Wins'])\n",
        "\n",
        "# Game loop\n",
        "round_num = 1\n",
        "while True:\n",
        "    user_choice = input(\"Enter your choice (rock, paper, scissors) or 'q' to quit: \").lower()\n",
        "\n",
        "    if user_choice == 'q':\n",
        "        break\n",
        "\n",
        "    if user_choice not in ['rock', 'paper', 'scissors']:\n",
        "        print(\"Invalid choice. Please choose rock, paper, or scissors.\")\n",
        "        continue\n",
        "\n",
        "    computer_choice = random.choice(['rock', 'paper', 'scissors'])\n",
        "\n",
        "    print(f\"Computer chose: {computer_choice}\")\n",
        "\n",
        "    # Determine the winner\n",
        "    if user_choice == computer_choice:\n",
        "        result = \"It's a tie!\"\n",
        "    elif (user_choice == 'rock' and computer_choice == 'scissors') or \\\n",
        "         (user_choice == 'paper' and computer_choice == 'rock') or \\\n",
        "         (user_choice == 'scissors' and computer_choice == 'paper'):\n",
        "        result = \"You win!\"\n",
        "        user_wins += 1\n",
        "    else:\n",
        "        result = \"Computer wins!\"\n",
        "        computer_wins += 1\n",
        "\n",
        "    print(result)\n",
        "\n",
        "    # Add result to DataFrame\n",
        "    results_df = results_df.append({'Round': round_num, 'User Wins': user_wins, 'Computer Wins': computer_wins}, ignore_index=True)\n",
        "    round_num += 1\n",
        "\n",
        "print(\"Game ended.\")\n",
        "\n",
        "# Plotting the results\n",
        "plt.plot(results_df['Round'], results_df['User Wins'], label='User Wins')\n",
        "plt.plot(results_df['Round'], results_df['Computer Wins'], label='Computer Wins')\n",
        "plt.xlabel('Round')\n",
        "plt.ylabel('Number of Wins')\n",
        "plt.title('Rock-Paper-Scissors Game Results')\n",
        "plt.legend()\n",
        "plt.show()\n",
        "\n",
        "# Display the results DataFrame\n",
        "print(\"\\nResults DataFrame:\")\n",
        "print(results_df)\n"
      ],
      "metadata": {
        "colab": {
          "base_uri": "https://localhost:8080/",
          "height": 1000
        },
        "id": "A8ygiQFvjgvZ",
        "outputId": "295cc32e-6391-4702-842e-de743cc70213"
      },
      "execution_count": 8,
      "outputs": [
        {
          "name": "stdout",
          "output_type": "stream",
          "text": [
            "Enter your choice (rock, paper, scissors) or 'q' to quit: rock\n"
          ]
        },
        {
          "output_type": "stream",
          "name": "stderr",
          "text": [
            "<ipython-input-8-9dde3e3c2e63>:43: FutureWarning: The frame.append method is deprecated and will be removed from pandas in a future version. Use pandas.concat instead.\n",
            "  results_df = results_df.append({'Round': round_num, 'User Wins': user_wins, 'Computer Wins': computer_wins}, ignore_index=True)\n"
          ]
        },
        {
          "name": "stdout",
          "output_type": "stream",
          "text": [
            "Computer chose: rock\n",
            "It's a tie!\n",
            "Enter your choice (rock, paper, scissors) or 'q' to quit: rock\n"
          ]
        },
        {
          "output_type": "stream",
          "name": "stderr",
          "text": [
            "<ipython-input-8-9dde3e3c2e63>:43: FutureWarning: The frame.append method is deprecated and will be removed from pandas in a future version. Use pandas.concat instead.\n",
            "  results_df = results_df.append({'Round': round_num, 'User Wins': user_wins, 'Computer Wins': computer_wins}, ignore_index=True)\n"
          ]
        },
        {
          "name": "stdout",
          "output_type": "stream",
          "text": [
            "Computer chose: scissors\n",
            "You win!\n",
            "Enter your choice (rock, paper, scissors) or 'q' to quit: rock\n"
          ]
        },
        {
          "output_type": "stream",
          "name": "stderr",
          "text": [
            "<ipython-input-8-9dde3e3c2e63>:43: FutureWarning: The frame.append method is deprecated and will be removed from pandas in a future version. Use pandas.concat instead.\n",
            "  results_df = results_df.append({'Round': round_num, 'User Wins': user_wins, 'Computer Wins': computer_wins}, ignore_index=True)\n"
          ]
        },
        {
          "name": "stdout",
          "output_type": "stream",
          "text": [
            "Computer chose: rock\n",
            "It's a tie!\n",
            "Enter your choice (rock, paper, scissors) or 'q' to quit: rock\n"
          ]
        },
        {
          "output_type": "stream",
          "name": "stderr",
          "text": [
            "<ipython-input-8-9dde3e3c2e63>:43: FutureWarning: The frame.append method is deprecated and will be removed from pandas in a future version. Use pandas.concat instead.\n",
            "  results_df = results_df.append({'Round': round_num, 'User Wins': user_wins, 'Computer Wins': computer_wins}, ignore_index=True)\n"
          ]
        },
        {
          "name": "stdout",
          "output_type": "stream",
          "text": [
            "Computer chose: scissors\n",
            "You win!\n",
            "Enter your choice (rock, paper, scissors) or 'q' to quit: paper\n"
          ]
        },
        {
          "output_type": "stream",
          "name": "stderr",
          "text": [
            "<ipython-input-8-9dde3e3c2e63>:43: FutureWarning: The frame.append method is deprecated and will be removed from pandas in a future version. Use pandas.concat instead.\n",
            "  results_df = results_df.append({'Round': round_num, 'User Wins': user_wins, 'Computer Wins': computer_wins}, ignore_index=True)\n"
          ]
        },
        {
          "output_type": "stream",
          "name": "stdout",
          "text": [
            "Computer chose: scissors\n",
            "Computer wins!\n",
            "Enter your choice (rock, paper, scissors) or 'q' to quit: q\n",
            "Game ended.\n"
          ]
        },
        {
          "output_type": "display_data",
          "data": {
            "text/plain": [
              "<Figure size 640x480 with 1 Axes>"
            ],
            "image/png": "[encoded data removed]"
          },
          "metadata": {}
        },
        {
          "output_type": "stream",
          "name": "stdout",
          "text": [
            "\n",
            "Results DataFrame:\n",
            "  Round User Wins Computer Wins\n",
            "0     1         0             0\n",
            "1     2         1             0\n",
            "2     3         1             0\n",
            "3     4         2             0\n",
            "4     5         2             1\n"
          ]
        }
      ]
    },
    {
      "cell_type": "code",
      "source": [
        "import random\n",
        "import pandas as pd\n",
        "import matplotlib.pyplot as plt\n",
        "\n",
        "# Initialize win counters\n",
        "user_wins = 0\n",
        "computer_wins = 0\n",
        "\n",
        "# Initialize a list to store game results\n",
        "game_results = []\n",
        "\n",
        "# Game loop\n",
        "while True:\n",
        "    user_choice = input(\"Enter your choice (rock, paper, scissors) or 'q' to quit: \").lower()\n",
        "\n",
        "    if user_choice == 'q':\n",
        "        break\n",
        "\n",
        "    if user_choice not in ['rock', 'paper', 'scissors']:\n",
        "        print(\"Invalid choice. Please choose rock, paper, or scissors.\")\n",
        "        continue\n",
        "\n",
        "    computer_choice = random.choice(['rock', 'paper', 'scissors'])\n",
        "\n",
        "    print(f\"Computer chose: {computer_choice}\")\n",
        "\n",
        "    # Determine the winner\n",
        "    if user_choice == computer_choice:\n",
        "        result = \"Tie\"\n",
        "    elif (user_choice == 'rock' and computer_choice == 'scissors') or \\\n",
        "         (user_choice == 'paper' and computer_choice == 'rock') or \\\n",
        "         (user_choice == 'scissors' and computer_choice == 'paper'):\n",
        "        result = \"User Wins\"\n",
        "        user_wins += 1\n",
        "    else:\n",
        "        result = \"Computer Wins\"\n",
        "        computer_wins += 1\n",
        "\n",
        "    game_results.append(result)\n",
        "\n",
        "print(\"Game ended.\")\n",
        "\n",
        "# Store results in a DataFrame\n",
        "results_df = pd.DataFrame(game_results, columns=['Result'])\n",
        "\n",
        "# Specify the path where you want to save the Excel file\n",
        "excel_file_path = '/content/rps_results.xlsx'\n",
        "\n",
        "# Save the DataFrame to an Excel file\n",
        "results_df.to_excel(excel_file_path, index=False)\n",
        "\n",
        "print(f\"Excel file saved at: {excel_file_path}\")\n",
        "\n",
        "# Plotting the results as a pie chart\n",
        "result_counts = results_df['Result'].value_counts()\n",
        "plt.pie(result_counts, labels=result_counts.index, autopct='%1.1f%%', startangle=140)\n",
        "plt.axis('equal')  # Equal aspect ratio ensures the pie chart is circular.\n",
        "plt.title('Rock-Paper-Scissors Game Results')\n",
        "plt.show()\n"
      ],
      "metadata": {
        "colab": {
          "base_uri": "https://localhost:8080/",
          "height": 619
        },
        "id": "_a13f8eflSaC",
        "outputId": "dec91e14-552e-4216-f1b2-4d18fba48221"
      },
      "execution_count": 12,
      "outputs": [
        {
          "output_type": "stream",
          "name": "stdout",
          "text": [
            "Enter your choice (rock, paper, scissors) or 'q' to quit: rock\n",
            "Computer chose: rock\n",
            "Enter your choice (rock, paper, scissors) or 'q' to quit: rock\n",
            "Computer chose: paper\n",
            "Enter your choice (rock, paper, scissors) or 'q' to quit: rock\n",
            "Computer chose: scissors\n",
            "Enter your choice (rock, paper, scissors) or 'q' to quit: rock\n",
            "Computer chose: scissors\n",
            "Enter your choice (rock, paper, scissors) or 'q' to quit: q\n",
            "Game ended.\n",
            "Excel file saved at: /content/rps_results.xlsx\n"
          ]
        },
        {
          "output_type": "display_data",
          "data": {
            "text/plain": [
              "<Figure size 640x480 with 1 Axes>"
            ],
            "image/png": "[encoded data removed]"
          },
          "metadata": {}
        }
      ]
    }
  ]
}