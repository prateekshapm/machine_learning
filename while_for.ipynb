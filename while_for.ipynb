{
  "nbformat": 4,
  "nbformat_minor": 0,
  "metadata": {
    "colab": {
      "provenance": [],
      "authorship_tag": "ABX9TyN+GoRQjnTzBNu9hdwHOXV9",
      "include_colab_link": true
    },
    "kernelspec": {
      "name": "python3",
      "display_name": "Python 3"
    },
    "language_info": {
      "name": "python"
    }
  },
  "cells": [
    {
      "cell_type": "markdown",
      "metadata": {
        "id": "view-in-github",
        "colab_type": "text"
      },
      "source": [
        "<a href=\"https://colab.research.google.com/github/prateekshapm/machine_learning/blob/main/while_for.ipynb\" target=\"_parent\"><img src=\"https://colab.research.google.com/assets/colab-badge.svg\" alt=\"Open In Colab\"/></a>"
      ]
    },
    {
      "cell_type": "markdown",
      "source": [
        "while loop"
      ],
      "metadata": {
        "id": "E0s_BVOt4_-D"
      }
    },
    {
      "cell_type": "code",
      "source": [
        "a=int(input(\"ENter the number \"))\n",
        "while a<=9:\n",
        "  print(\"the number is single digit \")\n",
        "  break\n",
        "while a>9 and a<=99:\n",
        "  print(\"the number is double digit\")\n",
        "  break\n",
        "else :\n",
        "  print(\"the number has more than 2 digits \")\n",
        ""
      ],
      "metadata": {
        "colab": {
          "base_uri": "https://localhost:8080/"
        },
        "id": "H59fpGZa5JP8",
        "outputId": "04184604-f57d-41d1-c39b-edd2d399ad88"
      },
      "execution_count": 4,
      "outputs": [
        {
          "output_type": "stream",
          "name": "stdout",
          "text": [
            "ENter the number 789\n",
            "the number has more than 2 digits \n"
          ]
        }
      ]
    },
    {
      "cell_type": "markdown",
      "source": [
        "**For loop**"
      ],
      "metadata": {
        "id": "GwX_lqqK6Kcq"
      }
    },
    {
      "cell_type": "code",
      "source": [
        "for x in range (6):\n",
        "  print(x)       #starting range is from 0 and 6 isnt considered"
      ],
      "metadata": {
        "colab": {
          "base_uri": "https://localhost:8080/"
        },
        "id": "Y3kuQqxQ6N-F",
        "outputId": "14d9167c-d19f-47e6-dd01-fc1c7b67ad77"
      },
      "execution_count": 5,
      "outputs": [
        {
          "output_type": "stream",
          "name": "stdout",
          "text": [
            "0\n",
            "1\n",
            "2\n",
            "3\n",
            "4\n",
            "5\n"
          ]
        }
      ]
    },
    {
      "cell_type": "code",
      "source": [
        "for x in range (1,6):\n",
        "  print(x)    #starts from 1 till 5"
      ],
      "metadata": {
        "colab": {
          "base_uri": "https://localhost:8080/"
        },
        "id": "mDvVZFpm638S",
        "outputId": "186500eb-1a19-4c46-e4b8-345d9be85411"
      },
      "execution_count": 6,
      "outputs": [
        {
          "output_type": "stream",
          "name": "stdout",
          "text": [
            "1\n",
            "2\n",
            "3\n",
            "4\n",
            "5\n"
          ]
        }
      ]
    },
    {
      "cell_type": "code",
      "source": [
        "for x in range (1,20,2):      #i=1,i<20,i=i+2\n",
        "  print(x)"
      ],
      "metadata": {
        "colab": {
          "base_uri": "https://localhost:8080/"
        },
        "id": "vWPsZ9A97AO0",
        "outputId": "8c0e9e6e-bb44-480d-e1fa-81303ed3cca2"
      },
      "execution_count": 7,
      "outputs": [
        {
          "output_type": "stream",
          "name": "stdout",
          "text": [
            "1\n",
            "3\n",
            "5\n",
            "7\n",
            "9\n",
            "11\n",
            "13\n",
            "15\n",
            "17\n",
            "19\n"
          ]
        }
      ]
    },
    {
      "cell_type": "code",
      "source": [
        "for x in range (0,99,9):\n",
        "  print(x)"
      ],
      "metadata": {
        "colab": {
          "base_uri": "https://localhost:8080/"
        },
        "id": "tDnCFz4A7Sn_",
        "outputId": "df67d8a8-1019-42ae-cd69-9ee0fb6aae29"
      },
      "execution_count": 9,
      "outputs": [
        {
          "output_type": "stream",
          "name": "stdout",
          "text": [
            "0\n",
            "9\n",
            "18\n",
            "27\n",
            "36\n",
            "45\n",
            "54\n",
            "63\n",
            "72\n",
            "81\n",
            "90\n"
          ]
        }
      ]
    },
    {
      "cell_type": "markdown",
      "source": [
        "**For loop in arrays**"
      ],
      "metadata": {
        "id": "N0FsHgrI8WPh"
      }
    },
    {
      "cell_type": "code",
      "source": [
        "names =[\"a\",\"b\",\"c\",\"d\"]\n",
        "for x in names :\n",
        "  print (x)"
      ],
      "metadata": {
        "colab": {
          "base_uri": "https://localhost:8080/"
        },
        "id": "rIKlKdS18ZQZ",
        "outputId": "61010a37-9421-405c-dcd9-8c429b3973a1"
      },
      "execution_count": 11,
      "outputs": [
        {
          "output_type": "stream",
          "name": "stdout",
          "text": [
            "a\n",
            "b\n",
            "c\n",
            "d\n"
          ]
        }
      ]
    },
    {
      "cell_type": "code",
      "source": [
        "names =[\"a\",\"b\",\"c\",\"d\"]\n",
        "for x in names :\n",
        "  print(x)\n",
        "  if x==\"d\":\n",
        "    print (\"heyy\")\n",
        "    break"
      ],
      "metadata": {
        "colab": {
          "base_uri": "https://localhost:8080/"
        },
        "id": "-ktT5d7j8iam",
        "outputId": "7812fe0d-1444-4e23-87df-d869eb84ec8b"
      },
      "execution_count": 13,
      "outputs": [
        {
          "output_type": "stream",
          "name": "stdout",
          "text": [
            "a\n",
            "b\n",
            "c\n",
            "d\n",
            "heyy\n"
          ]
        }
      ]
    },
    {
      "cell_type": "code",
      "source": [],
      "metadata": {
        "id": "8gZB0ISv9ANk"
      },
      "execution_count": null,
      "outputs": []
    }
  ]
}