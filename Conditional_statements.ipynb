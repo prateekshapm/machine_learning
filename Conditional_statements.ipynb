{
  "nbformat": 4,
  "nbformat_minor": 0,
  "metadata": {
    "colab": {
      "provenance": [],
      "authorship_tag": "ABX9TyMSTU86Ku/Bcz4VSGPSDzRr",
      "include_colab_link": true
    },
    "kernelspec": {
      "name": "python3",
      "display_name": "Python 3"
    },
    "language_info": {
      "name": "python"
    }
  },
  "cells": [
    {
      "cell_type": "markdown",
      "metadata": {
        "id": "view-in-github",
        "colab_type": "text"
      },
      "source": [
        "<a href=\"https://colab.research.google.com/github/prateekshapm/machine_learning/blob/main/Conditional_statements.ipynb\" target=\"_parent\"><img src=\"https://colab.research.google.com/assets/colab-badge.svg\" alt=\"Open In Colab\"/></a>"
      ]
    },
    {
      "cell_type": "code",
      "execution_count": null,
      "metadata": {
        "id": "VsJOtpuQP-Ug",
        "colab": {
          "base_uri": "https://localhost:8080/"
        },
        "outputId": "09d56b10-5986-4372-b8e3-f0c35dcf022f"
      },
      "outputs": [
        {
          "output_type": "stream",
          "name": "stdout",
          "text": [
            "Enter the value of a1\n",
            "Enter thevalue of b12\n",
            "1\n",
            "12\n"
          ]
        }
      ],
      "source": [
        "a=input(\"Enter the value of a\")\n",
        "b=input(\"Enter thevalue of b\")\n",
        "print(a)\n",
        "print(b)"
      ]
    },
    {
      "cell_type": "code",
      "source": [
        "if a>b:\n",
        "  print(\"the value of a is greater then b\")\n",
        "if a==b:\n",
        "  print(\"the value of a and b are equal\")\n",
        "if a<b:\n",
        "  print(\"the value of a is less than b\")"
      ],
      "metadata": {
        "id": "9WVfu0CTQ5xQ",
        "colab": {
          "base_uri": "https://localhost:8080/"
        },
        "outputId": "69970407-a18a-419f-9a29-faa97bc99669"
      },
      "execution_count": null,
      "outputs": [
        {
          "output_type": "stream",
          "name": "stdout",
          "text": [
            "the value of a is less than b\n"
          ]
        }
      ]
    },
    {
      "cell_type": "code",
      "source": [
        "if a==1:\n",
        "  print(\"a==1\")\n",
        "else:\n",
        "  print(\"a isnt equal to 1\")"
      ],
      "metadata": {
        "colab": {
          "base_uri": "https://localhost:8080/"
        },
        "id": "KR4_54nuSkqX",
        "outputId": "ae18a530-ee6b-4d97-abf2-eecc9d51bd7f"
      },
      "execution_count": null,
      "outputs": [
        {
          "output_type": "stream",
          "name": "stdout",
          "text": [
            "a isnt equal to 1\n"
          ]
        }
      ]
    },
    {
      "cell_type": "code",
      "source": [
        "b1=\"green\"\n",
        "b2=\"red\"\n",
        "b3=\"yello\"\n",
        "b4=\"pink\"\n",
        "\n",
        "pick=input(\"pick a ball\")\n",
        "\n",
        "if pick==b1:\n",
        "  print(\"the colur is green\")\n",
        "elif pick==b2:\n",
        "  print(\"the colur is red\")\n",
        "elif pick==b3:\n",
        "  print(\"the colur is yello\")\n",
        "else:\n",
        "  print(\"the colur is pink\")"
      ],
      "metadata": {
        "colab": {
          "base_uri": "https://localhost:8080/"
        },
        "id": "aEfDfFwDS-dZ",
        "outputId": "499d4fbc-3ddd-493c-c50a-fe9365962ffa"
      },
      "execution_count": null,
      "outputs": [
        {
          "output_type": "stream",
          "name": "stdout",
          "text": [
            "pick a ballred\n",
            "the colur is red\n"
          ]
        }
      ]
    },
    {
      "cell_type": "code",
      "source": [],
      "metadata": {
        "id": "i1qgOsCOUNGl"
      },
      "execution_count": null,
      "outputs": []
    }
  ]
}