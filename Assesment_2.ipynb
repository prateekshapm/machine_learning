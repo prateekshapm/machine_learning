{
  "nbformat": 4,
  "nbformat_minor": 0,
  "metadata": {
    "colab": {
      "provenance": [],
      "authorship_tag": "ABX9TyNlUKhVA+YjF1IkOhkPxZn3",
      "include_colab_link": true
    },
    "kernelspec": {
      "name": "python3",
      "display_name": "Python 3"
    },
    "language_info": {
      "name": "python"
    }
  },
  "cells": [
    {
      "cell_type": "markdown",
      "metadata": {
        "id": "view-in-github",
        "colab_type": "text"
      },
      "source": [
        "<a href=\"https://colab.research.google.com/github/prateekshapm/machine_learning/blob/main/Assesment_2.ipynb\" target=\"_parent\"><img src=\"https://colab.research.google.com/assets/colab-badge.svg\" alt=\"Open In Colab\"/></a>"
      ]
    },
    {
      "cell_type": "markdown",
      "source": [
        "# **QUESTION 5**"
      ],
      "metadata": {
        "id": "8FIxNXF0iUQW"
      }
    },
    {
      "cell_type": "code",
      "source": [
        "number=int(input(\"enter the number :\"))\n",
        "\n",
        "def HUMPTY_DUMPTY(number):\n",
        "    if number % 3 == 0 and number % 5 == 0:\n",
        "        return \"HUMPTY_DUMPTY\"\n",
        "    elif number % 3 == 0:\n",
        "        return \"HUMPTY\"\n",
        "    elif number % 5 == 0:\n",
        "        return \"DUMPTY\"\n",
        "    else:\n",
        "        return number\n",
        "answer =HUMPTY_DUMPTY(number)\n",
        "print(answer)"
      ],
      "metadata": {
        "colab": {
          "base_uri": "https://localhost:8080/"
        },
        "id": "giLz9lYdhW6S",
        "outputId": "87ce64ba-a428-400b-ccb0-2a0bff9f9761"
      },
      "execution_count": null,
      "outputs": [
        {
          "output_type": "stream",
          "name": "stdout",
          "text": [
            "enter the number :15\n",
            "HUMPTY_DUMPTY\n"
          ]
        }
      ]
    },
    {
      "cell_type": "markdown",
      "source": [
        "# **QUESTION 6**"
      ],
      "metadata": {
        "id": "K6VRLaaJijWs"
      }
    },
    {
      "cell_type": "code",
      "execution_count": null,
      "metadata": {
        "colab": {
          "base_uri": "https://localhost:8080/"
        },
        "id": "SEqd5RLXgWS7",
        "outputId": "0a32b417-8771-429d-c5c7-79b16691ca0f"
      },
      "outputs": [
        {
          "output_type": "stream",
          "name": "stdout",
          "text": [
            "[3 6 9]\n",
            "[3 6 9]\n",
            "[3 6 9]\n"
          ]
        }
      ],
      "source": [
        "import numpy as np\n",
        "a=np.array([1,2])\n",
        "b=np.array([1,2])\n",
        "c=np.array([1,2])\n",
        "d=np.array([1,2,3])\n",
        "e=np.array([1,2,3])\n",
        "f=np.array([0,0,0])\n",
        "g=np.array([0,0,0])\n",
        "h=np.array([0,0,0])\n",
        "f[0]=(a[0]*d[0])+(a[1]*e[0])\n",
        "f[1]=(a[0]*d[1])+(a[1]*e[1])\n",
        "f[2]=(a[0]*d[2])+(a[1]*e[2])\n",
        "g[0]=(b[0]*d[0])+(b[1]*e[0])\n",
        "g[1]=(b[0]*d[1])+(b[1]*e[1])\n",
        "g[2]=(b[0]*d[2])+(b[1]*e[2])\n",
        "h[0]=(c[0]*d[0])+(c[1]*e[0])\n",
        "h[1]=(c[0]*d[1])+(c[1]*e[1])\n",
        "h[2]=(c[0]*d[2])+(c[1]*e[2])\n",
        "print(f)\n",
        "print(g)\n",
        "print(h)"
      ]
    },
    {
      "cell_type": "markdown",
      "source": [
        "# **QUESTION 7**"
      ],
      "metadata": {
        "id": "K173QTreivCK"
      }
    },
    {
      "cell_type": "code",
      "source": [
        "def sum_multiples(limit):\n",
        "    total_sum = 0\n",
        "    for number in range(limit):\n",
        "        if number % 3 == 0 or number % 5 == 0:\n",
        "            total_sum += number\n",
        "    return total_sum\n",
        "\n",
        "limit = int(input(\"enter the limit :\"))\n",
        "result = sum_multiples(limit)\n",
        "print(f\"The sum of multiples of 3 and 5 between 0 and {limit} is: {result}\")\n"
      ],
      "metadata": {
        "colab": {
          "base_uri": "https://localhost:8080/"
        },
        "id": "D6KDFj_aitUN",
        "outputId": "315f0250-270b-4362-ad02-b1ec6efd500f"
      },
      "execution_count": null,
      "outputs": [
        {
          "output_type": "stream",
          "name": "stdout",
          "text": [
            "enter the limit :4\n",
            "The sum of multiples of 3 and 5 between 0 and 4 is: 3\n"
          ]
        }
      ]
    },
    {
      "cell_type": "markdown",
      "source": [
        "# **QUESTION 8**"
      ],
      "metadata": {
        "id": "gIrInS4mgZiM"
      }
    },
    {
      "cell_type": "code",
      "source": [
        "import matplotlib.pyplot as plt\n",
        "\n",
        "# Function to calculate the linear regression parameters (m and c)\n",
        "def linear_regression(x, y):\n",
        "    m = 28\n",
        "    c = 8\n",
        "    return m, c\n",
        "\n",
        "# Read data from the text file\n",
        "x, y = [], []\n",
        "with open(\"data.txt\", \"r\") as file:\n",
        "    for line in file:\n",
        "        data = line.strip().split()\n",
        "        x.append(float(data[0]))\n",
        "        y.append(float(data[1]))\n",
        "\n",
        "# Calculate linear regression parameters\n",
        "m, c = linear_regression(x, y)\n",
        "\n",
        "# Create a scatter plot of the data points\n",
        "plt.scatter(x, y, label=\"Data\")\n",
        "\n",
        "# Plot the linear regression line\n",
        "plt.plot(x, [m * xi + c for xi in x], color=\"red\", label=f\"Fit: y = {m:.2f}x + {c:.2f}\")\n",
        "\n",
        "# Add labels and legend\n",
        "plt.xlabel(\"X-axis\")\n",
        "plt.ylabel(\"Y-axis\")\n",
        "plt.legend()\n",
        "\n",
        "# Show the plot\n",
        "plt.show()"
      ],
      "metadata": {
        "colab": {
          "base_uri": "https://localhost:8080/",
          "height": 449
        },
        "id": "xfzsCgyUgfTc",
        "outputId": "5094b51a-b6ef-450e-ea85-efde05b5eac4"
      },
      "execution_count": null,
      "outputs": [
        {
          "output_type": "display_data",
          "data": {
            "text/plain": [
              "<Figure size 640x480 with 1 Axes>"
            ],
            "image/png": "[encoded data removed]"
          },
          "metadata": {}
        }
      ]
    }
  ]
}