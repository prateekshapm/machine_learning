{
  "nbformat": 4,
  "nbformat_minor": 0,
  "metadata": {
    "colab": {
      "provenance": [],
      "authorship_tag": "ABX9TyOxJUh7V/YUbfC3lLZgFp2b",
      "include_colab_link": true
    },
    "kernelspec": {
      "name": "python3",
      "display_name": "Python 3"
    },
    "language_info": {
      "name": "python"
    }
  },
  "cells": [
    {
      "cell_type": "markdown",
      "metadata": {
        "id": "view-in-github",
        "colab_type": "text"
      },
      "source": [
        "<a href=\"https://colab.research.google.com/github/prateekshapm/machine_learning/blob/main/Functions.ipynb\" target=\"_parent\"><img src=\"https://colab.research.google.com/assets/colab-badge.svg\" alt=\"Open In Colab\"/></a>"
      ]
    },
    {
      "cell_type": "markdown",
      "source": [
        "1.Define the function\n",
        "2.Invoking the function\n",
        "3.Passing the arguments\n"
      ],
      "metadata": {
        "id": "rsXoqqrfjYEr"
      }
    },
    {
      "cell_type": "code",
      "source": [
        "def cake_baker():\n",
        "  print(\"I am ready to bake the cake\")\n",
        "cake_baker()                                #invoking the function"
      ],
      "metadata": {
        "colab": {
          "base_uri": "https://localhost:8080/"
        },
        "id": "qHsNHmeij1Ut",
        "outputId": "c8257464-9896-43b6-ab9b-f33977425a2b"
      },
      "execution_count": null,
      "outputs": [
        {
          "output_type": "stream",
          "name": "stdout",
          "text": [
            "I am ready to bake the cake\n"
          ]
        }
      ]
    },
    {
      "cell_type": "code",
      "source": [
        "def cake(piece,flavor,size):\n",
        "  print(\"no of piece \",piece)\n",
        "  print(\"flavor \",flavor)\n",
        "  print(\"size \",size)\n",
        "cake(\"5\",\"chocolate\",\"5kg\")"
      ],
      "metadata": {
        "colab": {
          "base_uri": "https://localhost:8080/"
        },
        "id": "bzGAN2Xkj8ZP",
        "outputId": "ec8a49b4-ac17-4b22-e989-01f60e79cb0c"
      },
      "execution_count": null,
      "outputs": [
        {
          "output_type": "stream",
          "name": "stdout",
          "text": [
            "no of piece  5\n",
            "flavor  chocolate\n",
            "size  5kg\n"
          ]
        }
      ]
    },
    {
      "cell_type": "code",
      "source": [
        "def cake(piece,flavor,size):\n",
        "  print(\"no of piece \",piece)\n",
        "  print(\"flavor \",flavor)\n",
        "  print(\"size \",size)\n",
        "cake(\"5\",\"chocolate\",\"5kg\")\n",
        "cake(\"15\",\"hddsj\",\"50kg\")"
      ],
      "metadata": {
        "colab": {
          "base_uri": "https://localhost:8080/"
        },
        "id": "9bbWTohQkty6",
        "outputId": "be9ce722-8bf2-40e4-be0e-f789e08c69d9"
      },
      "execution_count": null,
      "outputs": [
        {
          "output_type": "stream",
          "name": "stdout",
          "text": [
            "no of piece  5\n",
            "flavor  chocolate\n",
            "size  5kg\n",
            "no of piece  15\n",
            "flavor  hddsj\n",
            "size  50kg\n"
          ]
        }
      ]
    },
    {
      "cell_type": "code",
      "source": [
        "def cake(piece,flavor,size):\n",
        "  print(\"no of piece \",piece)\n",
        "  print(\"flavor \",flavor)\n",
        "  print(\"size \",size)\n",
        "cake(\"5\",\"chocolate\",\"5kg\",\"hiiii\")"
      ],
      "metadata": {
        "colab": {
          "base_uri": "https://localhost:8080/",
          "height": 211
        },
        "id": "u0oo63A5k8eb",
        "outputId": "5d406c84-d0b5-4fe6-eb36-939b0dd650d1"
      },
      "execution_count": null,
      "outputs": [
        {
          "output_type": "error",
          "ename": "TypeError",
          "evalue": "ignored",
          "traceback": [
            "\u001b[0;31m---------------------------------------------------------------------------\u001b[0m",
            "\u001b[0;31mTypeError\u001b[0m                                 Traceback (most recent call last)",
            "\u001b[0;32m<ipython-input-4-1e633bc08a6b>\u001b[0m in \u001b[0;36m<cell line: 5>\u001b[0;34m()\u001b[0m\n\u001b[1;32m      3\u001b[0m   \u001b[0mprint\u001b[0m\u001b[0;34m(\u001b[0m\u001b[0;34m\"flavor \"\u001b[0m\u001b[0;34m,\u001b[0m\u001b[0mflavor\u001b[0m\u001b[0;34m)\u001b[0m\u001b[0;34m\u001b[0m\u001b[0;34m\u001b[0m\u001b[0m\n\u001b[1;32m      4\u001b[0m   \u001b[0mprint\u001b[0m\u001b[0;34m(\u001b[0m\u001b[0;34m\"size \"\u001b[0m\u001b[0;34m,\u001b[0m\u001b[0msize\u001b[0m\u001b[0;34m)\u001b[0m\u001b[0;34m\u001b[0m\u001b[0;34m\u001b[0m\u001b[0m\n\u001b[0;32m----> 5\u001b[0;31m \u001b[0mcake\u001b[0m\u001b[0;34m(\u001b[0m\u001b[0;34m\"5\"\u001b[0m\u001b[0;34m,\u001b[0m\u001b[0;34m\"chocolate\"\u001b[0m\u001b[0;34m,\u001b[0m\u001b[0;34m\"5kg\"\u001b[0m\u001b[0;34m,\u001b[0m\u001b[0;34m\"hiiii\"\u001b[0m\u001b[0;34m)\u001b[0m\u001b[0;34m\u001b[0m\u001b[0;34m\u001b[0m\u001b[0m\n\u001b[0m",
            "\u001b[0;31mTypeError\u001b[0m: cake() takes 3 positional arguments but 4 were given"
          ]
        }
      ]
    },
    {
      "cell_type": "code",
      "source": [
        "#to overcome the above error we use args(its not a key word we can use any word )\n",
        "def add(*args):\n",
        "  sum=0\n",
        "  for i in args:\n",
        "    sum+=i\n",
        "  return sum\n",
        "print(add(1,3))\n",
        "\n",
        "\n",
        "def add(*bunch):\n",
        "  sum=0\n",
        "  for i in bunch:\n",
        "    sum+=i\n",
        "  return sum\n",
        "print(add(1,3))"
      ],
      "metadata": {
        "colab": {
          "base_uri": "https://localhost:8080/"
        },
        "id": "6zgxLjaVmLpV",
        "outputId": "b2d470eb-6498-4400-ef6f-f82061ef2e2f"
      },
      "execution_count": null,
      "outputs": [
        {
          "output_type": "stream",
          "name": "stdout",
          "text": [
            "4\n",
            "4\n"
          ]
        }
      ]
    },
    {
      "cell_type": "code",
      "source": [
        "#even when the parameters change they dont casue erroe\n",
        "def add(*args):\n",
        "  sum=0\n",
        "  for i in args:\n",
        "    sum+=i\n",
        "  return sum\n",
        "print(add(1,2,3))"
      ],
      "metadata": {
        "colab": {
          "base_uri": "https://localhost:8080/"
        },
        "id": "6M4gLtlxmfbA",
        "outputId": "ad327934-b0a4-43b5-f532-79917e30694c"
      },
      "execution_count": null,
      "outputs": [
        {
          "output_type": "stream",
          "name": "stdout",
          "text": [
            "6\n"
          ]
        }
      ]
    },
    {
      "cell_type": "code",
      "source": [
        "def greet(**kwargs):\n",
        "  print(\"hello\")\n",
        "  for key, value in kwargs.items():\n",
        "    print(value)\n",
        "\n",
        "greet(name=\"prateeksha\",usn=\"01fe21bec009\",branch=\"enc\")"
      ],
      "metadata": {
        "colab": {
          "base_uri": "https://localhost:8080/"
        },
        "id": "eA6XE4Cfm0ll",
        "outputId": "429b9a20-ab4b-4f9b-df57-4294e5b78d0f"
      },
      "execution_count": null,
      "outputs": [
        {
          "output_type": "stream",
          "name": "stdout",
          "text": [
            "hello\n",
            "prateeksha\n",
            "01fe21bec009\n",
            "enc\n"
          ]
        }
      ]
    },
    {
      "cell_type": "code",
      "source": [
        "def greet(**kwargs):\n",
        "  print(\"hello\")\n",
        "  for key, value in kwargs.items():\n",
        "    print(value,end=\" \")\n",
        "\n",
        "greet(name=\"prateeksha\",usn=\"01fe21bec009\",branch=\"enc\")"
      ],
      "metadata": {
        "colab": {
          "base_uri": "https://localhost:8080/"
        },
        "id": "REgPNLRooH1z",
        "outputId": "05699cbe-f8d7-4f47-8c2d-13ce40cee715"
      },
      "execution_count": null,
      "outputs": [
        {
          "output_type": "stream",
          "name": "stdout",
          "text": [
            "hello\n",
            "prateeksha 01fe21bec009 enc "
          ]
        }
      ]
    },
    {
      "cell_type": "markdown",
      "source": [
        "## ***RANDOM NUMBER GENERATION INTEGER***"
      ],
      "metadata": {
        "id": "e4F3TXkCpx6K"
      }
    },
    {
      "cell_type": "code",
      "source": [
        "import random                      #Randomnumber generation\n",
        "x=random.randint(1,9)\n",
        "print(x)"
      ],
      "metadata": {
        "colab": {
          "base_uri": "https://localhost:8080/"
        },
        "id": "8V53sHsMpBzL",
        "outputId": "9449c664-2c11-4d8f-c5e0-2277b50e9e78"
      },
      "execution_count": null,
      "outputs": [
        {
          "output_type": "stream",
          "name": "stdout",
          "text": [
            "1\n"
          ]
        }
      ]
    },
    {
      "cell_type": "markdown",
      "source": [
        "## ***RANDOM NUMBER GENERATION FLOATIONG***"
      ],
      "metadata": {
        "id": "eFNjKmjTqNam"
      }
    },
    {
      "cell_type": "code",
      "source": [
        "import random\n",
        "a=random.random()\n",
        "print(a)"
      ],
      "metadata": {
        "colab": {
          "base_uri": "https://localhost:8080/"
        },
        "id": "9flcNTX5qTva",
        "outputId": "65c9fc32-3400-4eb1-bf52-d376164a5548"
      },
      "execution_count": null,
      "outputs": [
        {
          "output_type": "stream",
          "name": "stdout",
          "text": [
            "0.42272855410097276\n"
          ]
        }
      ]
    }
  ]
}