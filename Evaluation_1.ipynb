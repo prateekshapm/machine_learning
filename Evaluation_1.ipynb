{
  "nbformat": 4,
  "nbformat_minor": 0,
  "metadata": {
    "colab": {
      "provenance": [],
      "authorship_tag": "ABX9TyN1YMPwfEmcDEzUhHV1Rf9I",
      "include_colab_link": true
    },
    "kernelspec": {
      "name": "python3",
      "display_name": "Python 3"
    },
    "language_info": {
      "name": "python"
    }
  },
  "cells": [
    {
      "cell_type": "markdown",
      "metadata": {
        "id": "view-in-github",
        "colab_type": "text"
      },
      "source": [
        "<a href=\"https://colab.research.google.com/github/prateekshapm/machine_learning/blob/main/Evaluation_1.ipynb\" target=\"_parent\"><img src=\"https://colab.research.google.com/assets/colab-badge.svg\" alt=\"Open In Colab\"/></a>"
      ]
    },
    {
      "cell_type": "markdown",
      "source": [
        "**1.Prime or not**\n"
      ],
      "metadata": {
        "id": "SYx3ontZjtWu"
      }
    },
    {
      "cell_type": "code",
      "source": [
        "num = int(input(\"Enter a number: \"))\n",
        "flag = False\n",
        "if num == 1:\n",
        "    print(num, \"is not a prime number\")\n",
        "elif num > 1:\n",
        "  for i in range(2, num):\n",
        "    if (num % i) == 0:\n",
        "      flag = True\n",
        "      break\n",
        "\n",
        "  if flag:\n",
        "        print(num, \"is not a prime number\")\n",
        "        if num%3==0:\n",
        "          print(\"the number is divisible by 3\")\n",
        "        if num%7==0:\n",
        "          print(\"the number is divisible by 7\")\n",
        "        if num%9==0:\n",
        "          print(\"the number is divisible by 9\")\n",
        "        if num%11==0:\n",
        "          print(\"the number is divisible by 11\")\n",
        "\n",
        "  else:\n",
        "        print(num, \"is a prime number\")"
      ],
      "metadata": {
        "colab": {
          "base_uri": "https://localhost:8080/"
        },
        "id": "wGiR9ZItj1WZ",
        "outputId": "36ef278c-9261-4161-e74b-32ada6bcc390"
      },
      "execution_count": 58,
      "outputs": [
        {
          "output_type": "stream",
          "name": "stdout",
          "text": [
            "Enter a number: 50\n",
            "50 is not a prime number\n"
          ]
        }
      ]
    },
    {
      "cell_type": "markdown",
      "source": [
        "**2.palindrome or not**"
      ],
      "metadata": {
        "id": "ur3tnjp-nS88"
      }
    },
    {
      "cell_type": "code",
      "source": [
        "\n",
        "def is_palindrome(s):\n",
        "    s = s.lower()  # Convert to lowercase for case-insensitive comparison\n",
        "    s = ''.join(filter(str.isalnum, s))  # Remove non-alphanumeric characters\n",
        "    return s == s[::-1]\n",
        "\n",
        "user_input = input(\"Enter a string: \")\n",
        "if is_palindrome(user_input):\n",
        "    print(\"The input string is a palindrome.\")\n",
        "else:\n",
        "    print(\"The input string is not a palindrome.\")\n"
      ],
      "metadata": {
        "colab": {
          "base_uri": "https://localhost:8080/"
        },
        "id": "eASKFPb-ndKU",
        "outputId": "1d10c082-7521-42d7-f8e9-4dcd83dc7647"
      },
      "execution_count": 60,
      "outputs": [
        {
          "output_type": "stream",
          "name": "stdout",
          "text": [
            "Enter a string: gadaf\n",
            "The input string is not a palindrome.\n"
          ]
        }
      ]
    },
    {
      "cell_type": "markdown",
      "source": [
        "3.odd or even list"
      ],
      "metadata": {
        "id": "Z-vwOsJokul8"
      }
    },
    {
      "cell_type": "code",
      "source": [
        "odd=[]\n",
        "even =[]\n",
        "for i in range (1,11,1):\n",
        "  inpt=int(input(\"enter the number \"))\n",
        "  if (inpt%2==0):\n",
        "    even.append(inpt)\n",
        "  else :\n",
        "    odd.append(inpt)\n",
        "print(odd)\n",
        "print(even)"
      ],
      "metadata": {
        "colab": {
          "base_uri": "https://localhost:8080/"
        },
        "id": "3ePu0yJEk2WP",
        "outputId": "17e0c331-8ece-4130-b85c-c4efbde8b59d"
      },
      "execution_count": 62,
      "outputs": [
        {
          "output_type": "stream",
          "name": "stdout",
          "text": [
            "enter the number 1\n",
            "enter the number 2\n",
            "enter the number 3\n",
            "enter the number 4\n",
            "enter the number 5\n",
            "enter the number 6\n",
            "enter the number 7\n",
            "enter the number 8\n",
            "enter the number 9\n",
            "enter the number 10\n",
            "[1, 3, 5, 7, 9]\n",
            "[2, 4, 6, 8, 10]\n"
          ]
        }
      ]
    },
    {
      "cell_type": "markdown",
      "source": [
        "4.stars"
      ],
      "metadata": {
        "id": "a7NzFQaYqETy"
      }
    },
    {
      "cell_type": "code",
      "source": [
        "row=int(input(\"Enter the number of rows :\"))\n",
        "for i in range (1,row+1,1):\n",
        "  print(\"*\"*i)"
      ],
      "metadata": {
        "colab": {
          "base_uri": "https://localhost:8080/"
        },
        "id": "LjYpv7O5qKLl",
        "outputId": "201c6de9-3ff2-4267-beb2-06cd0ec4f133"
      },
      "execution_count": 63,
      "outputs": [
        {
          "output_type": "stream",
          "name": "stdout",
          "text": [
            "Enter the number of rows :5\n",
            "*\n",
            "**\n",
            "***\n",
            "****\n",
            "*****\n"
          ]
        }
      ]
    }
  ]
}