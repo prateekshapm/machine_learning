{
  "nbformat": 4,
  "nbformat_minor": 0,
  "metadata": {
    "colab": {
      "provenance": [],
      "authorship_tag": "ABX9TyMrKKUYiHF+OeLxvYVDKREF",
      "include_colab_link": true
    },
    "kernelspec": {
      "name": "python3",
      "display_name": "Python 3"
    },
    "language_info": {
      "name": "python"
    }
  },
  "cells": [
    {
      "cell_type": "markdown",
      "metadata": {
        "id": "view-in-github",
        "colab_type": "text"
      },
      "source": [
        "<a href=\"https://colab.research.google.com/github/prateekshapm/machine_learning/blob/main/rock_paper_scissor.ipynb\" target=\"_parent\"><img src=\"https://colab.research.google.com/assets/colab-badge.svg\" alt=\"Open In Colab\"/></a>"
      ]
    },
    {
      "cell_type": "code",
      "execution_count": null,
      "metadata": {
        "colab": {
          "base_uri": "https://localhost:8080/"
        },
        "id": "G5_jChilsKvb",
        "outputId": "02d0319c-b631-4c24-c1e2-7ed490d09603"
      },
      "outputs": [
        {
          "output_type": "stream",
          "name": "stdout",
          "text": [
            "enter rock paper or scissor  rock\n",
            "paper\n",
            "rock\n",
            "computer won\n"
          ]
        }
      ],
      "source": [
        "import random\n",
        "list=['rock','paper','scissor']\n",
        "comp=random.choice(list)\n",
        "user=input(\"enter rock paper or scissor  \")\n",
        "print(comp)\n",
        "print(user)\n",
        "\n",
        "if (comp==\"rock\" and user ==\"paper\"):\n",
        "  print(\"user won\")\n",
        "elif (comp==\"rock\" and user ==\"scissor\"):\n",
        "  print(\"computer won\")\n",
        "elif (comp==\"paper\" and user ==\"scissor\"):\n",
        "  print(\"user won\")\n",
        "elif (user==\"paper\" and comp ==\"scissor\"):\n",
        "  print(\"computer won\")\n",
        "elif (user==\"rock\" and comp ==\"scissor\"):\n",
        "  print(\"user won\")\n",
        "elif (user==\"rock\" and comp ==\"paper\"):\n",
        "   print(\"computer won\")\n",
        "elif (user == comp):\n",
        "  print(\"its a tie\")\n"
      ]
    },
    {
      "cell_type": "code",
      "source": [],
      "metadata": {
        "id": "-3v-RWmLuG90"
      },
      "execution_count": null,
      "outputs": []
    }
  ]
}